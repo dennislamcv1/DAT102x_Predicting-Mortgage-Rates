{
 "cells": [
  {
   "cell_type": "markdown",
   "metadata": {},
   "source": [
    "### Maximum 10000 samples to run SVR based on documents"
   ]
  },
  {
   "cell_type": "code",
   "execution_count": 1,
   "metadata": {},
   "outputs": [],
   "source": [
    "import pandas as pd\n",
    "import numpy as np\n",
    "import seaborn as sns\n",
    "import matplotlib.pyplot as plt\n",
    "%matplotlib inline\n",
    "\n",
    "import sklearn\n",
    "from sklearn.metrics import r2_score, mean_absolute_error, mean_squared_error\n",
    "\n",
    "from sklearn import svm\n",
    "from sklearn.svm import SVR\n",
    "from sklearn.model_selection import GridSearchCV\n",
    "from sklearn.model_selection import cross_validate\n",
    "\n",
    "from math import sqrt\n",
    "\n",
    "import warnings\n",
    "warnings.filterwarnings(\"ignore\")"
   ]
  },
  {
   "cell_type": "code",
   "execution_count": 2,
   "metadata": {},
   "outputs": [],
   "source": [
    "df1 = pd.read_csv('trainforsvm.csv')"
   ]
  },
  {
   "cell_type": "code",
   "execution_count": 3,
   "metadata": {},
   "outputs": [
    {
     "data": {
      "text/html": [
       "<div>\n",
       "<style scoped>\n",
       "    .dataframe tbody tr th:only-of-type {\n",
       "        vertical-align: middle;\n",
       "    }\n",
       "\n",
       "    .dataframe tbody tr th {\n",
       "        vertical-align: top;\n",
       "    }\n",
       "\n",
       "    .dataframe thead th {\n",
       "        text-align: right;\n",
       "    }\n",
       "</style>\n",
       "<table border=\"1\" class=\"dataframe\">\n",
       "  <thead>\n",
       "    <tr style=\"text-align: right;\">\n",
       "      <th></th>\n",
       "      <th>0</th>\n",
       "      <th>1</th>\n",
       "      <th>2</th>\n",
       "      <th>3</th>\n",
       "      <th>4</th>\n",
       "      <th>5</th>\n",
       "      <th>6</th>\n",
       "      <th>7</th>\n",
       "      <th>8</th>\n",
       "      <th>9</th>\n",
       "      <th>loan_amount</th>\n",
       "      <th>applicant_income</th>\n",
       "      <th>rate_spread</th>\n",
       "    </tr>\n",
       "  </thead>\n",
       "  <tbody>\n",
       "    <tr>\n",
       "      <th>0</th>\n",
       "      <td>0</td>\n",
       "      <td>1</td>\n",
       "      <td>0</td>\n",
       "      <td>0</td>\n",
       "      <td>1</td>\n",
       "      <td>0</td>\n",
       "      <td>0</td>\n",
       "      <td>1</td>\n",
       "      <td>0</td>\n",
       "      <td>0</td>\n",
       "      <td>-0.025077</td>\n",
       "      <td>0.042033</td>\n",
       "      <td>1</td>\n",
       "    </tr>\n",
       "    <tr>\n",
       "      <th>1</th>\n",
       "      <td>0</td>\n",
       "      <td>1</td>\n",
       "      <td>0</td>\n",
       "      <td>0</td>\n",
       "      <td>0</td>\n",
       "      <td>1</td>\n",
       "      <td>0</td>\n",
       "      <td>1</td>\n",
       "      <td>0</td>\n",
       "      <td>0</td>\n",
       "      <td>0.122230</td>\n",
       "      <td>-0.298088</td>\n",
       "      <td>2</td>\n",
       "    </tr>\n",
       "    <tr>\n",
       "      <th>2</th>\n",
       "      <td>1</td>\n",
       "      <td>0</td>\n",
       "      <td>0</td>\n",
       "      <td>0</td>\n",
       "      <td>0</td>\n",
       "      <td>1</td>\n",
       "      <td>0</td>\n",
       "      <td>1</td>\n",
       "      <td>0</td>\n",
       "      <td>0</td>\n",
       "      <td>0.178347</td>\n",
       "      <td>-0.375830</td>\n",
       "      <td>3</td>\n",
       "    </tr>\n",
       "    <tr>\n",
       "      <th>3</th>\n",
       "      <td>1</td>\n",
       "      <td>0</td>\n",
       "      <td>0</td>\n",
       "      <td>0</td>\n",
       "      <td>0</td>\n",
       "      <td>1</td>\n",
       "      <td>0</td>\n",
       "      <td>1</td>\n",
       "      <td>0</td>\n",
       "      <td>0</td>\n",
       "      <td>-0.600277</td>\n",
       "      <td>-0.346677</td>\n",
       "      <td>6</td>\n",
       "    </tr>\n",
       "    <tr>\n",
       "      <th>4</th>\n",
       "      <td>0</td>\n",
       "      <td>1</td>\n",
       "      <td>0</td>\n",
       "      <td>0</td>\n",
       "      <td>1</td>\n",
       "      <td>0</td>\n",
       "      <td>0</td>\n",
       "      <td>0</td>\n",
       "      <td>1</td>\n",
       "      <td>0</td>\n",
       "      <td>-0.824745</td>\n",
       "      <td>-0.259217</td>\n",
       "      <td>4</td>\n",
       "    </tr>\n",
       "  </tbody>\n",
       "</table>\n",
       "</div>"
      ],
      "text/plain": [
       "   0  1  2  3  4  5  6  7  8  9  loan_amount  applicant_income  rate_spread\n",
       "0  0  1  0  0  1  0  0  1  0  0    -0.025077          0.042033            1\n",
       "1  0  1  0  0  0  1  0  1  0  0     0.122230         -0.298088            2\n",
       "2  1  0  0  0  0  1  0  1  0  0     0.178347         -0.375830            3\n",
       "3  1  0  0  0  0  1  0  1  0  0    -0.600277         -0.346677            6\n",
       "4  0  1  0  0  1  0  0  0  1  0    -0.824745         -0.259217            4"
      ]
     },
     "execution_count": 3,
     "metadata": {},
     "output_type": "execute_result"
    }
   ],
   "source": [
    "df1.head()"
   ]
  },
  {
   "cell_type": "code",
   "execution_count": 4,
   "metadata": {},
   "outputs": [
    {
     "name": "stdout",
     "output_type": "stream",
     "text": [
      "<class 'pandas.core.frame.DataFrame'>\n",
      "RangeIndex: 9999 entries, 0 to 9998\n",
      "Data columns (total 13 columns):\n",
      "0                   9999 non-null int64\n",
      "1                   9999 non-null int64\n",
      "2                   9999 non-null int64\n",
      "3                   9999 non-null int64\n",
      "4                   9999 non-null int64\n",
      "5                   9999 non-null int64\n",
      "6                   9999 non-null int64\n",
      "7                   9999 non-null int64\n",
      "8                   9999 non-null int64\n",
      "9                   9999 non-null int64\n",
      "loan_amount         9999 non-null float64\n",
      "applicant_income    9999 non-null float64\n",
      "rate_spread         9999 non-null int64\n",
      "dtypes: float64(2), int64(11)\n",
      "memory usage: 1015.6 KB\n"
     ]
    }
   ],
   "source": [
    "df1.info()"
   ]
  },
  {
   "cell_type": "code",
   "execution_count": 5,
   "metadata": {},
   "outputs": [
    {
     "data": {
      "text/html": [
       "<div>\n",
       "<style scoped>\n",
       "    .dataframe tbody tr th:only-of-type {\n",
       "        vertical-align: middle;\n",
       "    }\n",
       "\n",
       "    .dataframe tbody tr th {\n",
       "        vertical-align: top;\n",
       "    }\n",
       "\n",
       "    .dataframe thead th {\n",
       "        text-align: right;\n",
       "    }\n",
       "</style>\n",
       "<table border=\"1\" class=\"dataframe\">\n",
       "  <thead>\n",
       "    <tr style=\"text-align: right;\">\n",
       "      <th></th>\n",
       "      <th>0</th>\n",
       "      <th>1</th>\n",
       "      <th>2</th>\n",
       "      <th>3</th>\n",
       "      <th>4</th>\n",
       "      <th>5</th>\n",
       "      <th>6</th>\n",
       "      <th>7</th>\n",
       "      <th>8</th>\n",
       "      <th>9</th>\n",
       "      <th>loan_amount</th>\n",
       "      <th>applicant_income</th>\n",
       "      <th>rate_spread</th>\n",
       "    </tr>\n",
       "  </thead>\n",
       "  <tbody>\n",
       "    <tr>\n",
       "      <th>count</th>\n",
       "      <td>9999.000000</td>\n",
       "      <td>9999.000000</td>\n",
       "      <td>9999.000000</td>\n",
       "      <td>9999.000000</td>\n",
       "      <td>9999.000000</td>\n",
       "      <td>9999.000000</td>\n",
       "      <td>9999.000000</td>\n",
       "      <td>9999.000000</td>\n",
       "      <td>9999.000000</td>\n",
       "      <td>9999.000000</td>\n",
       "      <td>9999.000000</td>\n",
       "      <td>9999.000000</td>\n",
       "      <td>9999.000000</td>\n",
       "    </tr>\n",
       "    <tr>\n",
       "      <th>mean</th>\n",
       "      <td>0.454045</td>\n",
       "      <td>0.530053</td>\n",
       "      <td>0.006901</td>\n",
       "      <td>0.009001</td>\n",
       "      <td>0.848085</td>\n",
       "      <td>0.150515</td>\n",
       "      <td>0.001400</td>\n",
       "      <td>0.734373</td>\n",
       "      <td>0.051205</td>\n",
       "      <td>0.214421</td>\n",
       "      <td>0.027453</td>\n",
       "      <td>0.001151</td>\n",
       "      <td>1.950195</td>\n",
       "    </tr>\n",
       "    <tr>\n",
       "      <th>std</th>\n",
       "      <td>0.497909</td>\n",
       "      <td>0.499121</td>\n",
       "      <td>0.082787</td>\n",
       "      <td>0.094450</td>\n",
       "      <td>0.358957</td>\n",
       "      <td>0.357593</td>\n",
       "      <td>0.037394</td>\n",
       "      <td>0.441688</td>\n",
       "      <td>0.220427</td>\n",
       "      <td>0.410441</td>\n",
       "      <td>1.098622</td>\n",
       "      <td>0.817862</td>\n",
       "      <td>1.580386</td>\n",
       "    </tr>\n",
       "    <tr>\n",
       "      <th>min</th>\n",
       "      <td>0.000000</td>\n",
       "      <td>0.000000</td>\n",
       "      <td>0.000000</td>\n",
       "      <td>0.000000</td>\n",
       "      <td>0.000000</td>\n",
       "      <td>0.000000</td>\n",
       "      <td>0.000000</td>\n",
       "      <td>0.000000</td>\n",
       "      <td>0.000000</td>\n",
       "      <td>0.000000</td>\n",
       "      <td>-0.993096</td>\n",
       "      <td>-0.677079</td>\n",
       "      <td>1.000000</td>\n",
       "    </tr>\n",
       "    <tr>\n",
       "      <th>25%</th>\n",
       "      <td>0.000000</td>\n",
       "      <td>0.000000</td>\n",
       "      <td>0.000000</td>\n",
       "      <td>0.000000</td>\n",
       "      <td>1.000000</td>\n",
       "      <td>0.000000</td>\n",
       "      <td>0.000000</td>\n",
       "      <td>0.000000</td>\n",
       "      <td>0.000000</td>\n",
       "      <td>0.000000</td>\n",
       "      <td>-0.523116</td>\n",
       "      <td>-0.317523</td>\n",
       "      <td>1.000000</td>\n",
       "    </tr>\n",
       "    <tr>\n",
       "      <th>50%</th>\n",
       "      <td>0.000000</td>\n",
       "      <td>1.000000</td>\n",
       "      <td>0.000000</td>\n",
       "      <td>0.000000</td>\n",
       "      <td>1.000000</td>\n",
       "      <td>0.000000</td>\n",
       "      <td>0.000000</td>\n",
       "      <td>1.000000</td>\n",
       "      <td>0.000000</td>\n",
       "      <td>0.000000</td>\n",
       "      <td>-0.172384</td>\n",
       "      <td>-0.162040</td>\n",
       "      <td>1.000000</td>\n",
       "    </tr>\n",
       "    <tr>\n",
       "      <th>75%</th>\n",
       "      <td>1.000000</td>\n",
       "      <td>1.000000</td>\n",
       "      <td>0.000000</td>\n",
       "      <td>0.000000</td>\n",
       "      <td>1.000000</td>\n",
       "      <td>0.000000</td>\n",
       "      <td>0.000000</td>\n",
       "      <td>1.000000</td>\n",
       "      <td>0.000000</td>\n",
       "      <td>0.000000</td>\n",
       "      <td>0.269538</td>\n",
       "      <td>0.090621</td>\n",
       "      <td>2.000000</td>\n",
       "    </tr>\n",
       "    <tr>\n",
       "      <th>max</th>\n",
       "      <td>1.000000</td>\n",
       "      <td>1.000000</td>\n",
       "      <td>1.000000</td>\n",
       "      <td>1.000000</td>\n",
       "      <td>1.000000</td>\n",
       "      <td>1.000000</td>\n",
       "      <td>1.000000</td>\n",
       "      <td>1.000000</td>\n",
       "      <td>1.000000</td>\n",
       "      <td>1.000000</td>\n",
       "      <td>36.170430</td>\n",
       "      <td>36.172555</td>\n",
       "      <td>8.000000</td>\n",
       "    </tr>\n",
       "  </tbody>\n",
       "</table>\n",
       "</div>"
      ],
      "text/plain": [
       "                 0            1            2            3            4  \\\n",
       "count  9999.000000  9999.000000  9999.000000  9999.000000  9999.000000   \n",
       "mean      0.454045     0.530053     0.006901     0.009001     0.848085   \n",
       "std       0.497909     0.499121     0.082787     0.094450     0.358957   \n",
       "min       0.000000     0.000000     0.000000     0.000000     0.000000   \n",
       "25%       0.000000     0.000000     0.000000     0.000000     1.000000   \n",
       "50%       0.000000     1.000000     0.000000     0.000000     1.000000   \n",
       "75%       1.000000     1.000000     0.000000     0.000000     1.000000   \n",
       "max       1.000000     1.000000     1.000000     1.000000     1.000000   \n",
       "\n",
       "                 5            6            7            8            9  \\\n",
       "count  9999.000000  9999.000000  9999.000000  9999.000000  9999.000000   \n",
       "mean      0.150515     0.001400     0.734373     0.051205     0.214421   \n",
       "std       0.357593     0.037394     0.441688     0.220427     0.410441   \n",
       "min       0.000000     0.000000     0.000000     0.000000     0.000000   \n",
       "25%       0.000000     0.000000     0.000000     0.000000     0.000000   \n",
       "50%       0.000000     0.000000     1.000000     0.000000     0.000000   \n",
       "75%       0.000000     0.000000     1.000000     0.000000     0.000000   \n",
       "max       1.000000     1.000000     1.000000     1.000000     1.000000   \n",
       "\n",
       "       loan_amount  applicant_income  rate_spread  \n",
       "count  9999.000000       9999.000000  9999.000000  \n",
       "mean      0.027453          0.001151     1.950195  \n",
       "std       1.098622          0.817862     1.580386  \n",
       "min      -0.993096         -0.677079     1.000000  \n",
       "25%      -0.523116         -0.317523     1.000000  \n",
       "50%      -0.172384         -0.162040     1.000000  \n",
       "75%       0.269538          0.090621     2.000000  \n",
       "max      36.170430         36.172555     8.000000  "
      ]
     },
     "execution_count": 5,
     "metadata": {},
     "output_type": "execute_result"
    }
   ],
   "source": [
    "df1.describe()"
   ]
  },
  {
   "cell_type": "code",
   "execution_count": 6,
   "metadata": {},
   "outputs": [
    {
     "data": {
      "text/plain": [
       "(9999, 13)"
      ]
     },
     "execution_count": 6,
     "metadata": {},
     "output_type": "execute_result"
    }
   ],
   "source": [
    "df1.shape"
   ]
  },
  {
   "cell_type": "code",
   "execution_count": 7,
   "metadata": {},
   "outputs": [],
   "source": [
    "array = df1.values"
   ]
  },
  {
   "cell_type": "code",
   "execution_count": 8,
   "metadata": {},
   "outputs": [
    {
     "data": {
      "text/plain": [
       "numpy.ndarray"
      ]
     },
     "execution_count": 8,
     "metadata": {},
     "output_type": "execute_result"
    }
   ],
   "source": [
    "type(array)"
   ]
  },
  {
   "cell_type": "code",
   "execution_count": 9,
   "metadata": {},
   "outputs": [],
   "source": [
    "X = array[:,0:12]\n",
    "y = array[:,12]"
   ]
  },
  {
   "cell_type": "code",
   "execution_count": 10,
   "metadata": {},
   "outputs": [
    {
     "data": {
      "text/plain": [
       "(9999, 12)"
      ]
     },
     "execution_count": 10,
     "metadata": {},
     "output_type": "execute_result"
    }
   ],
   "source": [
    "X.shape"
   ]
  },
  {
   "cell_type": "code",
   "execution_count": 11,
   "metadata": {},
   "outputs": [
    {
     "data": {
      "text/plain": [
       "(9999,)"
      ]
     },
     "execution_count": 11,
     "metadata": {},
     "output_type": "execute_result"
    }
   ],
   "source": [
    "y.shape"
   ]
  },
  {
   "cell_type": "markdown",
   "metadata": {},
   "source": [
    "### Cross-validation on training dataset"
   ]
  },
  {
   "cell_type": "code",
   "execution_count": 12,
   "metadata": {},
   "outputs": [],
   "source": [
    "model = SVR()"
   ]
  },
  {
   "cell_type": "code",
   "execution_count": 13,
   "metadata": {},
   "outputs": [],
   "source": [
    "cv_svr = cross_validate(model,X,y,scoring='r2',cv=5,n_jobs=-1,return_train_score=True)"
   ]
  },
  {
   "cell_type": "code",
   "execution_count": 14,
   "metadata": {},
   "outputs": [
    {
     "data": {
      "text/plain": [
       "{'fit_time': array([4.15203261, 4.1989038 , 4.15203261, 4.12077618, 2.52951288]),\n",
       " 'score_time': array([0.40624309, 0.42187476, 0.37499571, 0.42187667, 0.25020719]),\n",
       " 'test_score': array([0.51212592, 0.51253852, 0.48625515, 0.51987865, 0.50591396]),\n",
       " 'train_score': array([0.50907168, 0.51522991, 0.51589705, 0.51236158, 0.51742739])}"
      ]
     },
     "execution_count": 14,
     "metadata": {},
     "output_type": "execute_result"
    }
   ],
   "source": [
    "cv_svr"
   ]
  },
  {
   "cell_type": "code",
   "execution_count": 15,
   "metadata": {},
   "outputs": [],
   "source": [
    "svr_train_average = np.average(cv_svr['train_score'])\n",
    "svr_test_average = np.average(cv_svr['test_score'])"
   ]
  },
  {
   "cell_type": "code",
   "execution_count": 16,
   "metadata": {},
   "outputs": [
    {
     "name": "stdout",
     "output_type": "stream",
     "text": [
      "0.5139975220969052\n",
      "0.5073424401500678\n"
     ]
    }
   ],
   "source": [
    "print(svr_train_average)\n",
    "\n",
    "print(svr_test_average)"
   ]
  },
  {
   "cell_type": "markdown",
   "metadata": {},
   "source": [
    "### Using Grid Search to find best parameters"
   ]
  },
  {
   "cell_type": "code",
   "execution_count": 29,
   "metadata": {},
   "outputs": [],
   "source": [
    "model = SVR()"
   ]
  },
  {
   "cell_type": "code",
   "execution_count": 38,
   "metadata": {},
   "outputs": [],
   "source": [
    "params_grid = {\"C\":[1.0,2.0,3.0],\n",
    "               \"gamma\" :[1,5,10]\n",
    "              }"
   ]
  },
  {
   "cell_type": "code",
   "execution_count": 39,
   "metadata": {},
   "outputs": [],
   "source": [
    "grid_search_svr = GridSearchCV(model,params_grid,scoring='r2',n_jobs=-1,cv=3,verbose=True,return_train_score=True)"
   ]
  },
  {
   "cell_type": "code",
   "execution_count": 40,
   "metadata": {},
   "outputs": [
    {
     "name": "stdout",
     "output_type": "stream",
     "text": [
      "Fitting 3 folds for each of 9 candidates, totalling 27 fits\n"
     ]
    },
    {
     "name": "stderr",
     "output_type": "stream",
     "text": [
      "[Parallel(n_jobs=-1)]: Using backend LokyBackend with 4 concurrent workers.\n",
      "[Parallel(n_jobs=-1)]: Done  27 out of  27 | elapsed:  1.0min finished\n"
     ]
    },
    {
     "data": {
      "text/plain": [
       "GridSearchCV(cv=3, error_score='raise-deprecating',\n",
       "             estimator=SVR(C=1.0, cache_size=200, coef0=0.0, degree=3,\n",
       "                           epsilon=0.1, gamma='auto_deprecated', kernel='rbf',\n",
       "                           max_iter=-1, shrinking=True, tol=0.001,\n",
       "                           verbose=False),\n",
       "             iid='warn', n_jobs=-1,\n",
       "             param_grid={'C': [1.0, 2.0, 3.0], 'gamma': [1, 5, 10]},\n",
       "             pre_dispatch='2*n_jobs', refit=True, return_train_score=True,\n",
       "             scoring='r2', verbose=True)"
      ]
     },
     "execution_count": 40,
     "metadata": {},
     "output_type": "execute_result"
    }
   ],
   "source": [
    "grid_search_svr.fit(X,y)"
   ]
  },
  {
   "cell_type": "code",
   "execution_count": 41,
   "metadata": {},
   "outputs": [
    {
     "data": {
      "text/plain": [
       "dict_keys(['C', 'cache_size', 'coef0', 'degree', 'epsilon', 'gamma', 'kernel', 'max_iter', 'shrinking', 'tol', 'verbose'])"
      ]
     },
     "execution_count": 41,
     "metadata": {},
     "output_type": "execute_result"
    }
   ],
   "source": [
    "model.get_params().keys()"
   ]
  },
  {
   "cell_type": "code",
   "execution_count": 42,
   "metadata": {},
   "outputs": [
    {
     "data": {
      "text/plain": [
       "{'C': 2.0, 'gamma': 1}"
      ]
     },
     "execution_count": 42,
     "metadata": {},
     "output_type": "execute_result"
    }
   ],
   "source": [
    "grid_search_svr.best_params_  #'C': 2.0, 'gamma': 1"
   ]
  },
  {
   "cell_type": "code",
   "execution_count": 46,
   "metadata": {},
   "outputs": [],
   "source": [
    "cv_results_svr = pd.DataFrame.from_dict(grid_search_svr.cv_results_)"
   ]
  },
  {
   "cell_type": "code",
   "execution_count": 47,
   "metadata": {},
   "outputs": [
    {
     "data": {
      "text/html": [
       "<div>\n",
       "<style scoped>\n",
       "    .dataframe tbody tr th:only-of-type {\n",
       "        vertical-align: middle;\n",
       "    }\n",
       "\n",
       "    .dataframe tbody tr th {\n",
       "        vertical-align: top;\n",
       "    }\n",
       "\n",
       "    .dataframe thead th {\n",
       "        text-align: right;\n",
       "    }\n",
       "</style>\n",
       "<table border=\"1\" class=\"dataframe\">\n",
       "  <thead>\n",
       "    <tr style=\"text-align: right;\">\n",
       "      <th></th>\n",
       "      <th>mean_fit_time</th>\n",
       "      <th>std_fit_time</th>\n",
       "      <th>mean_score_time</th>\n",
       "      <th>std_score_time</th>\n",
       "      <th>param_C</th>\n",
       "      <th>param_gamma</th>\n",
       "      <th>params</th>\n",
       "      <th>split0_test_score</th>\n",
       "      <th>split1_test_score</th>\n",
       "      <th>split2_test_score</th>\n",
       "      <th>mean_test_score</th>\n",
       "      <th>std_test_score</th>\n",
       "      <th>rank_test_score</th>\n",
       "      <th>split0_train_score</th>\n",
       "      <th>split1_train_score</th>\n",
       "      <th>split2_train_score</th>\n",
       "      <th>mean_train_score</th>\n",
       "      <th>std_train_score</th>\n",
       "    </tr>\n",
       "  </thead>\n",
       "  <tbody>\n",
       "    <tr>\n",
       "      <th>0</th>\n",
       "      <td>3.500033</td>\n",
       "      <td>0.057847</td>\n",
       "      <td>0.621824</td>\n",
       "      <td>0.013008</td>\n",
       "      <td>1</td>\n",
       "      <td>1</td>\n",
       "      <td>{'C': 1.0, 'gamma': 1}</td>\n",
       "      <td>0.523030</td>\n",
       "      <td>0.504272</td>\n",
       "      <td>0.520568</td>\n",
       "      <td>0.515957</td>\n",
       "      <td>0.008323</td>\n",
       "      <td>3</td>\n",
       "      <td>0.528340</td>\n",
       "      <td>0.541921</td>\n",
       "      <td>0.534861</td>\n",
       "      <td>0.535041</td>\n",
       "      <td>0.005546</td>\n",
       "    </tr>\n",
       "    <tr>\n",
       "      <th>1</th>\n",
       "      <td>4.142167</td>\n",
       "      <td>0.047205</td>\n",
       "      <td>0.698042</td>\n",
       "      <td>0.027105</td>\n",
       "      <td>1</td>\n",
       "      <td>5</td>\n",
       "      <td>{'C': 1.0, 'gamma': 5}</td>\n",
       "      <td>0.513868</td>\n",
       "      <td>0.496199</td>\n",
       "      <td>0.517348</td>\n",
       "      <td>0.509138</td>\n",
       "      <td>0.009259</td>\n",
       "      <td>4</td>\n",
       "      <td>0.538772</td>\n",
       "      <td>0.551922</td>\n",
       "      <td>0.545830</td>\n",
       "      <td>0.545508</td>\n",
       "      <td>0.005373</td>\n",
       "    </tr>\n",
       "    <tr>\n",
       "      <th>2</th>\n",
       "      <td>5.018913</td>\n",
       "      <td>0.730947</td>\n",
       "      <td>0.786425</td>\n",
       "      <td>0.032414</td>\n",
       "      <td>1</td>\n",
       "      <td>10</td>\n",
       "      <td>{'C': 1.0, 'gamma': 10}</td>\n",
       "      <td>0.507977</td>\n",
       "      <td>0.491580</td>\n",
       "      <td>0.514948</td>\n",
       "      <td>0.504835</td>\n",
       "      <td>0.009795</td>\n",
       "      <td>7</td>\n",
       "      <td>0.545090</td>\n",
       "      <td>0.561109</td>\n",
       "      <td>0.556169</td>\n",
       "      <td>0.554123</td>\n",
       "      <td>0.006698</td>\n",
       "    </tr>\n",
       "    <tr>\n",
       "      <th>3</th>\n",
       "      <td>5.306360</td>\n",
       "      <td>0.257168</td>\n",
       "      <td>0.777863</td>\n",
       "      <td>0.015217</td>\n",
       "      <td>2</td>\n",
       "      <td>1</td>\n",
       "      <td>{'C': 2.0, 'gamma': 1}</td>\n",
       "      <td>0.523057</td>\n",
       "      <td>0.505717</td>\n",
       "      <td>0.523586</td>\n",
       "      <td>0.517453</td>\n",
       "      <td>0.008301</td>\n",
       "      <td>1</td>\n",
       "      <td>0.535310</td>\n",
       "      <td>0.547204</td>\n",
       "      <td>0.539836</td>\n",
       "      <td>0.540783</td>\n",
       "      <td>0.004902</td>\n",
       "    </tr>\n",
       "    <tr>\n",
       "      <th>4</th>\n",
       "      <td>6.812133</td>\n",
       "      <td>0.174930</td>\n",
       "      <td>0.763724</td>\n",
       "      <td>0.052968</td>\n",
       "      <td>2</td>\n",
       "      <td>5</td>\n",
       "      <td>{'C': 2.0, 'gamma': 5}</td>\n",
       "      <td>0.509065</td>\n",
       "      <td>0.496735</td>\n",
       "      <td>0.516567</td>\n",
       "      <td>0.507456</td>\n",
       "      <td>0.008176</td>\n",
       "      <td>5</td>\n",
       "      <td>0.548737</td>\n",
       "      <td>0.560303</td>\n",
       "      <td>0.555576</td>\n",
       "      <td>0.554872</td>\n",
       "      <td>0.004748</td>\n",
       "    </tr>\n",
       "    <tr>\n",
       "      <th>5</th>\n",
       "      <td>7.739131</td>\n",
       "      <td>0.352769</td>\n",
       "      <td>0.913865</td>\n",
       "      <td>0.101574</td>\n",
       "      <td>2</td>\n",
       "      <td>10</td>\n",
       "      <td>{'C': 2.0, 'gamma': 10}</td>\n",
       "      <td>0.506116</td>\n",
       "      <td>0.490016</td>\n",
       "      <td>0.510436</td>\n",
       "      <td>0.502189</td>\n",
       "      <td>0.008787</td>\n",
       "      <td>8</td>\n",
       "      <td>0.558490</td>\n",
       "      <td>0.572375</td>\n",
       "      <td>0.567214</td>\n",
       "      <td>0.566027</td>\n",
       "      <td>0.005730</td>\n",
       "    </tr>\n",
       "    <tr>\n",
       "      <th>6</th>\n",
       "      <td>6.017730</td>\n",
       "      <td>0.284178</td>\n",
       "      <td>0.799768</td>\n",
       "      <td>0.017023</td>\n",
       "      <td>3</td>\n",
       "      <td>1</td>\n",
       "      <td>{'C': 3.0, 'gamma': 1}</td>\n",
       "      <td>0.521518</td>\n",
       "      <td>0.506019</td>\n",
       "      <td>0.523755</td>\n",
       "      <td>0.517097</td>\n",
       "      <td>0.007887</td>\n",
       "      <td>2</td>\n",
       "      <td>0.538173</td>\n",
       "      <td>0.549937</td>\n",
       "      <td>0.541722</td>\n",
       "      <td>0.543277</td>\n",
       "      <td>0.004927</td>\n",
       "    </tr>\n",
       "    <tr>\n",
       "      <th>7</th>\n",
       "      <td>7.931338</td>\n",
       "      <td>0.301533</td>\n",
       "      <td>0.930647</td>\n",
       "      <td>0.064589</td>\n",
       "      <td>3</td>\n",
       "      <td>5</td>\n",
       "      <td>{'C': 3.0, 'gamma': 5}</td>\n",
       "      <td>0.506719</td>\n",
       "      <td>0.497776</td>\n",
       "      <td>0.516188</td>\n",
       "      <td>0.506895</td>\n",
       "      <td>0.007518</td>\n",
       "      <td>6</td>\n",
       "      <td>0.553841</td>\n",
       "      <td>0.565403</td>\n",
       "      <td>0.560672</td>\n",
       "      <td>0.559972</td>\n",
       "      <td>0.004746</td>\n",
       "    </tr>\n",
       "    <tr>\n",
       "      <th>8</th>\n",
       "      <td>8.617518</td>\n",
       "      <td>0.335549</td>\n",
       "      <td>0.658324</td>\n",
       "      <td>0.058368</td>\n",
       "      <td>3</td>\n",
       "      <td>10</td>\n",
       "      <td>{'C': 3.0, 'gamma': 10}</td>\n",
       "      <td>0.500365</td>\n",
       "      <td>0.487912</td>\n",
       "      <td>0.508406</td>\n",
       "      <td>0.498894</td>\n",
       "      <td>0.008431</td>\n",
       "      <td>9</td>\n",
       "      <td>0.564902</td>\n",
       "      <td>0.579009</td>\n",
       "      <td>0.573349</td>\n",
       "      <td>0.572420</td>\n",
       "      <td>0.005796</td>\n",
       "    </tr>\n",
       "  </tbody>\n",
       "</table>\n",
       "</div>"
      ],
      "text/plain": [
       "   mean_fit_time  std_fit_time  mean_score_time  std_score_time param_C  \\\n",
       "0       3.500033      0.057847         0.621824        0.013008       1   \n",
       "1       4.142167      0.047205         0.698042        0.027105       1   \n",
       "2       5.018913      0.730947         0.786425        0.032414       1   \n",
       "3       5.306360      0.257168         0.777863        0.015217       2   \n",
       "4       6.812133      0.174930         0.763724        0.052968       2   \n",
       "5       7.739131      0.352769         0.913865        0.101574       2   \n",
       "6       6.017730      0.284178         0.799768        0.017023       3   \n",
       "7       7.931338      0.301533         0.930647        0.064589       3   \n",
       "8       8.617518      0.335549         0.658324        0.058368       3   \n",
       "\n",
       "  param_gamma                   params  split0_test_score  split1_test_score  \\\n",
       "0           1   {'C': 1.0, 'gamma': 1}           0.523030           0.504272   \n",
       "1           5   {'C': 1.0, 'gamma': 5}           0.513868           0.496199   \n",
       "2          10  {'C': 1.0, 'gamma': 10}           0.507977           0.491580   \n",
       "3           1   {'C': 2.0, 'gamma': 1}           0.523057           0.505717   \n",
       "4           5   {'C': 2.0, 'gamma': 5}           0.509065           0.496735   \n",
       "5          10  {'C': 2.0, 'gamma': 10}           0.506116           0.490016   \n",
       "6           1   {'C': 3.0, 'gamma': 1}           0.521518           0.506019   \n",
       "7           5   {'C': 3.0, 'gamma': 5}           0.506719           0.497776   \n",
       "8          10  {'C': 3.0, 'gamma': 10}           0.500365           0.487912   \n",
       "\n",
       "   split2_test_score  mean_test_score  std_test_score  rank_test_score  \\\n",
       "0           0.520568         0.515957        0.008323                3   \n",
       "1           0.517348         0.509138        0.009259                4   \n",
       "2           0.514948         0.504835        0.009795                7   \n",
       "3           0.523586         0.517453        0.008301                1   \n",
       "4           0.516567         0.507456        0.008176                5   \n",
       "5           0.510436         0.502189        0.008787                8   \n",
       "6           0.523755         0.517097        0.007887                2   \n",
       "7           0.516188         0.506895        0.007518                6   \n",
       "8           0.508406         0.498894        0.008431                9   \n",
       "\n",
       "   split0_train_score  split1_train_score  split2_train_score  \\\n",
       "0            0.528340            0.541921            0.534861   \n",
       "1            0.538772            0.551922            0.545830   \n",
       "2            0.545090            0.561109            0.556169   \n",
       "3            0.535310            0.547204            0.539836   \n",
       "4            0.548737            0.560303            0.555576   \n",
       "5            0.558490            0.572375            0.567214   \n",
       "6            0.538173            0.549937            0.541722   \n",
       "7            0.553841            0.565403            0.560672   \n",
       "8            0.564902            0.579009            0.573349   \n",
       "\n",
       "   mean_train_score  std_train_score  \n",
       "0          0.535041         0.005546  \n",
       "1          0.545508         0.005373  \n",
       "2          0.554123         0.006698  \n",
       "3          0.540783         0.004902  \n",
       "4          0.554872         0.004748  \n",
       "5          0.566027         0.005730  \n",
       "6          0.543277         0.004927  \n",
       "7          0.559972         0.004746  \n",
       "8          0.572420         0.005796  "
      ]
     },
     "execution_count": 47,
     "metadata": {},
     "output_type": "execute_result"
    }
   ],
   "source": [
    "cv_results_svr"
   ]
  },
  {
   "cell_type": "code",
   "execution_count": 50,
   "metadata": {},
   "outputs": [],
   "source": [
    "bestsvr = grid_search_svr.best_estimator_"
   ]
  },
  {
   "cell_type": "code",
   "execution_count": 51,
   "metadata": {},
   "outputs": [
    {
     "data": {
      "text/plain": [
       "SVR(C=2.0, cache_size=200, coef0=0.0, degree=3, epsilon=0.1, gamma=1,\n",
       "    kernel='rbf', max_iter=-1, shrinking=True, tol=0.001, verbose=False)"
      ]
     },
     "execution_count": 51,
     "metadata": {},
     "output_type": "execute_result"
    }
   ],
   "source": [
    "bestsvr"
   ]
  },
  {
   "cell_type": "markdown",
   "metadata": {},
   "source": [
    "## Load in train set"
   ]
  },
  {
   "cell_type": "code",
   "execution_count": null,
   "metadata": {},
   "outputs": [],
   "source": []
  },
  {
   "cell_type": "markdown",
   "metadata": {},
   "source": [
    "### Load in test set"
   ]
  },
  {
   "cell_type": "code",
   "execution_count": null,
   "metadata": {},
   "outputs": [],
   "source": [
    "X_test = pd.read_csv('testmodified.csv')"
   ]
  },
  {
   "cell_type": "code",
   "execution_count": null,
   "metadata": {},
   "outputs": [],
   "source": [
    "X_test.head()"
   ]
  },
  {
   "cell_type": "code",
   "execution_count": null,
   "metadata": {},
   "outputs": [],
   "source": [
    "X_test.shape"
   ]
  },
  {
   "cell_type": "code",
   "execution_count": null,
   "metadata": {},
   "outputs": [],
   "source": [
    "y_predict = bestsvr.predict(X_test)"
   ]
  },
  {
   "cell_type": "code",
   "execution_count": null,
   "metadata": {},
   "outputs": [],
   "source": [
    "y_predict"
   ]
  },
  {
   "cell_type": "code",
   "execution_count": null,
   "metadata": {},
   "outputs": [],
   "source": [
    "y_predict.shape"
   ]
  },
  {
   "cell_type": "code",
   "execution_count": null,
   "metadata": {},
   "outputs": [],
   "source": [
    "svrprediction = pd.DataFrame(y_predict)"
   ]
  },
  {
   "cell_type": "code",
   "execution_count": null,
   "metadata": {},
   "outputs": [],
   "source": [
    "svrprediction"
   ]
  },
  {
   "cell_type": "code",
   "execution_count": null,
   "metadata": {},
   "outputs": [],
   "source": [
    "sns.distplot(svrprediction)"
   ]
  },
  {
   "cell_type": "code",
   "execution_count": null,
   "metadata": {},
   "outputs": [],
   "source": [
    "MSE = mean_squared_error(y,y_predict)\n",
    "print(\"Mean Squared Error is\", MSE)"
   ]
  },
  {
   "cell_type": "code",
   "execution_count": null,
   "metadata": {},
   "outputs": [],
   "source": [
    "RMSE = format(np.sqrt(MSE),'.3f')\n",
    "print(\"RMSE is\", RMSE)"
   ]
  },
  {
   "cell_type": "code",
   "execution_count": null,
   "metadata": {},
   "outputs": [],
   "source": [
    "MAE = mean_absolute_error(y,y_predict)\n",
    "print(\"MAE is\", MAE)"
   ]
  },
  {
   "cell_type": "code",
   "execution_count": null,
   "metadata": {},
   "outputs": [],
   "source": [
    "r2 = r2_score(y,y_predict)\n",
    "print(\"R2 score is\", r2)"
   ]
  },
  {
   "cell_type": "code",
   "execution_count": null,
   "metadata": {},
   "outputs": [],
   "source": [
    "svrprediction.to_csv('svrresult.csv')"
   ]
  },
  {
   "cell_type": "markdown",
   "metadata": {},
   "source": [
    "**Result is 0.3669**"
   ]
  },
  {
   "cell_type": "code",
   "execution_count": null,
   "metadata": {},
   "outputs": [],
   "source": []
  }
 ],
 "metadata": {
  "kernelspec": {
   "display_name": "Python 3",
   "language": "python",
   "name": "python3"
  },
  "language_info": {
   "codemirror_mode": {
    "name": "ipython",
    "version": 3
   },
   "file_extension": ".py",
   "mimetype": "text/x-python",
   "name": "python",
   "nbconvert_exporter": "python",
   "pygments_lexer": "ipython3",
   "version": "3.7.4"
  }
 },
 "nbformat": 4,
 "nbformat_minor": 2
}
